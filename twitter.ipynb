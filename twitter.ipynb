{
 "cells": [
  {
   "cell_type": "markdown",
   "metadata": {},
   "source": [
    "# TeeHunch"
   ]
  },
  {
   "cell_type": "markdown",
   "metadata": {},
   "source": [
    "## importamos librerias"
   ]
  },
  {
   "cell_type": "code",
   "execution_count": 1,
   "metadata": {},
   "outputs": [],
   "source": [
    "import requests\n",
    "import os\n",
    "from dotenv import load_dotenv\n",
    "import pandas as pd\n",
    "import string\n",
    "from nltk.tokenize import TweetTokenizer\n",
    "from wordcloud import WordCloud\n",
    "import matplotlib.pyplot as plt\n",
    "import nltk"
   ]
  },
  {
   "cell_type": "markdown",
   "metadata": {},
   "source": [
    "## Obtener datos de la API "
   ]
  },
  {
   "cell_type": "markdown",
   "metadata": {},
   "source": [
    "### definimos consulta a la API"
   ]
  },
  {
   "cell_type": "code",
   "execution_count": 2,
   "metadata": {},
   "outputs": [],
   "source": [
    "url = \"https://api.twitter.com/2/tweets/search/recent\""
   ]
  },
  {
   "cell_type": "markdown",
   "metadata": {},
   "source": [
    "### definimos parametros"
   ]
  },
  {
   "cell_type": "code",
   "execution_count": 3,
   "metadata": {},
   "outputs": [],
   "source": [
    "params = {\n",
    "    'query': 'WhatsApp lang:en -is:retweet',\n",
    "    'tweet.fields':'created_at',\n",
    "    'max_results':100\n",
    "}"
   ]
  },
  {
   "cell_type": "markdown",
   "metadata": {},
   "source": [
    "### cargamos los valores del .env"
   ]
  },
  {
   "cell_type": "code",
   "execution_count": 4,
   "metadata": {},
   "outputs": [
    {
     "data": {
      "text/plain": [
       "True"
      ]
     },
     "execution_count": 4,
     "metadata": {},
     "output_type": "execute_result"
    }
   ],
   "source": [
    "load_dotenv()"
   ]
  },
  {
   "cell_type": "markdown",
   "metadata": {},
   "source": [
    "### definimos cabecera"
   ]
  },
  {
   "cell_type": "code",
   "execution_count": 5,
   "metadata": {},
   "outputs": [
    {
     "name": "stdout",
     "output_type": "stream",
     "text": [
      "AAAAAAAAAAAAAAAAAAAAAMLSUAEAAAAAJJZEWvf0vpzqGzUGipb7XWruN4k%3DeoD0ge1zJDPTu0uXl4yN0tg69kSdkcksjA6XD5Tom5VVtt9x9p\n"
     ]
    }
   ],
   "source": [
    "bearer_token = os.environ.get(\"BEARER_TOKEN\")\n",
    "headers = {\n",
    "    \"Authorization\": f\"Bearer {bearer_token}\",\n",
    "    \"User-Agent\":\"kja5qvexXn19Nl0zt3kkLv21w\"\n",
    "} \n",
    "print(bearer_token)"
   ]
  },
  {
   "cell_type": "markdown",
   "metadata": {},
   "source": [
    "## Obtener tweets"
   ]
  },
  {
   "cell_type": "code",
   "execution_count": 6,
   "metadata": {},
   "outputs": [],
   "source": [
    "def get_data(url,params, total_pages):\n",
    "    results = []\n",
    "    count = 0\n",
    "    while count < total_pages:\n",
    "        count += 1\n",
    "        response = requests.get(url, headers=headers, params=params)\n",
    "        # Generar excepción si la respuesta no es exitosa\n",
    "        if response.status_code != 200:\n",
    "            raise Exception(response.status_code, response.text)\n",
    "        data = response.json()['data']\n",
    "        meta_data = dict(response.json())['meta']\n",
    "        results.append(pd.json_normalize(data))\n",
    "        if 'next_token' not in meta_data:\n",
    "            break\n",
    "        else:\n",
    "            token = meta_data['next_token']\n",
    "            print(token)\n",
    "            params = {\n",
    "                    'query': 'WhatsApp lang:en -is:retweet',\n",
    "                    'tweet.fields':'created_at',\n",
    "                    'next_token':token,\n",
    "                    'max_results':100\n",
    "            }\n",
    "    return pd.concat(results)"
   ]
  },
  {
   "cell_type": "code",
   "execution_count": 7,
   "metadata": {},
   "outputs": [
    {
     "name": "stdout",
     "output_type": "stream",
     "text": [
      "b26v89c19zqg8o3fpdv5se7b8qjxpkojdx44l1qi6tit9\n",
      "b26v89c19zqg8o3fpdv5se7b77pyoefohq8jsp8c4zhx9\n",
      "b26v89c19zqg8o3fpdv5se7b5pbblnh6njdmrctcnpmkd\n",
      "b26v89c19zqg8o3fpdv5se7b46h509k4q8t5wvcceikcd\n",
      "b26v89c19zqg8o3fpdv5se7b2numx8h7q90hufjxs95dp\n",
      "b26v89c19zqg8o3fpdv5se7azngljsfbkyqdkgv2tjc71\n",
      "b26v89c19zqg8o3fpdv5se7ay479fxi3uenu32mm8lc3h\n",
      "b26v89c19zqg8o3fpdv5se7awlkp74jnd49ze6ivi1zel\n",
      "b26v89c19zqg8o3fpdv5se7av35wq8x5tkajr24ra17y5\n",
      "b26v89c19zqg8o3fpdv5se70eu9mowmxv67bmgv96kol9\n",
      "b26v89c19zqg8o3fpdv5se70dbn6rnerspzii0x3c3rel\n",
      "b26v89c19zqg8o3fpdv5se70bt0prnoxnfy2xzn8wt5kt\n",
      "b26v89c19zqg8o3fpdv5se70a9z27d7d0ollpcp7wwcxp\n",
      "b26v89c19zqg8o3fpdv5se708rs3oc6vr5k03bin0rjwd\n",
      "b26v89c19zqg8o3fpdv5se7078xql6k8877o4ypfdr725\n",
      "b26v89c19zqg8o3fpdv5se705qj0adll4m2m6rptxdf99\n",
      "b26v89c19zqg8o3fpdv5se7047oz3qb34y9auvwxnupod\n",
      "b26v89c19zqg8o3fpdv5se702ofo2ghrw195yg8ix4sxp\n",
      "b26v89c19zqg8o3fpdv5se6pnvldxglakzo0xfw3ih6d9\n",
      "b26v89c19zqg8o3fpdv5se6pkv786cbcr9ou57yjkdgn1\n"
     ]
    },
    {
     "data": {
      "text/html": [
       "<div>\n",
       "<style scoped>\n",
       "    .dataframe tbody tr th:only-of-type {\n",
       "        vertical-align: middle;\n",
       "    }\n",
       "\n",
       "    .dataframe tbody tr th {\n",
       "        vertical-align: top;\n",
       "    }\n",
       "\n",
       "    .dataframe thead th {\n",
       "        text-align: right;\n",
       "    }\n",
       "</style>\n",
       "<table border=\"1\" class=\"dataframe\">\n",
       "  <thead>\n",
       "    <tr style=\"text-align: right;\">\n",
       "      <th></th>\n",
       "      <th>created_at</th>\n",
       "      <th>id</th>\n",
       "      <th>text</th>\n",
       "      <th>withheld.copyright</th>\n",
       "      <th>withheld.country_codes</th>\n",
       "    </tr>\n",
       "  </thead>\n",
       "  <tbody>\n",
       "    <tr>\n",
       "      <th>0</th>\n",
       "      <td>2021-10-19T00:40:31.000Z</td>\n",
       "      <td>1450260537271541767</td>\n",
       "      <td>@goodman5582 @Turki_alalshikh #jeddah_massage\\...</td>\n",
       "      <td>NaN</td>\n",
       "      <td>NaN</td>\n",
       "    </tr>\n",
       "    <tr>\n",
       "      <th>1</th>\n",
       "      <td>2021-10-19T00:40:29.000Z</td>\n",
       "      <td>1450260531680530436</td>\n",
       "      <td>@popa_ip @DocumentingBTC @stakeborg Are you in...</td>\n",
       "      <td>NaN</td>\n",
       "      <td>NaN</td>\n",
       "    </tr>\n",
       "    <tr>\n",
       "      <th>2</th>\n",
       "      <td>2021-10-19T00:40:24.000Z</td>\n",
       "      <td>1450260510470025219</td>\n",
       "      <td>@iKEN6MA whatsapp</td>\n",
       "      <td>NaN</td>\n",
       "      <td>NaN</td>\n",
       "    </tr>\n",
       "    <tr>\n",
       "      <th>3</th>\n",
       "      <td>2021-10-19T00:40:20.000Z</td>\n",
       "      <td>1450260490261762049</td>\n",
       "      <td>Girl on my WhatsApp asking me what I know abou...</td>\n",
       "      <td>NaN</td>\n",
       "      <td>NaN</td>\n",
       "    </tr>\n",
       "    <tr>\n",
       "      <th>4</th>\n",
       "      <td>2021-10-19T00:40:17.000Z</td>\n",
       "      <td>1450260478387752961</td>\n",
       "      <td>@sultan140214 @T0lc52sWhpJ6jUT @Turki_alalshik...</td>\n",
       "      <td>NaN</td>\n",
       "      <td>NaN</td>\n",
       "    </tr>\n",
       "    <tr>\n",
       "      <th>...</th>\n",
       "      <td>...</td>\n",
       "      <td>...</td>\n",
       "      <td>...</td>\n",
       "      <td>...</td>\n",
       "      <td>...</td>\n",
       "    </tr>\n",
       "    <tr>\n",
       "      <th>93</th>\n",
       "      <td>2021-10-18T23:08:52.000Z</td>\n",
       "      <td>1450237474572103686</td>\n",
       "      <td>@skelethund Love ya mate 🥰 (respond fucking wh...</td>\n",
       "      <td>NaN</td>\n",
       "      <td>NaN</td>\n",
       "    </tr>\n",
       "    <tr>\n",
       "      <th>94</th>\n",
       "      <td>2021-10-18T23:08:47.000Z</td>\n",
       "      <td>1450237451184885761</td>\n",
       "      <td>@foot2061 @goddesjoannalrg Hello dear servant!...</td>\n",
       "      <td>NaN</td>\n",
       "      <td>NaN</td>\n",
       "    </tr>\n",
       "    <tr>\n",
       "      <th>95</th>\n",
       "      <td>2021-10-18T23:08:46.000Z</td>\n",
       "      <td>1450237450035548160</td>\n",
       "      <td>Dm with your cash app tag or apple pay if you ...</td>\n",
       "      <td>NaN</td>\n",
       "      <td>NaN</td>\n",
       "    </tr>\n",
       "    <tr>\n",
       "      <th>96</th>\n",
       "      <td>2021-10-18T23:08:45.000Z</td>\n",
       "      <td>1450237446004871175</td>\n",
       "      <td>NEW ARRIVAL✨✨\\n🔥🔥🔥🔥🔥\\nBINDO🚨🚨🚨\\nAvailable for ...</td>\n",
       "      <td>NaN</td>\n",
       "      <td>NaN</td>\n",
       "    </tr>\n",
       "    <tr>\n",
       "      <th>97</th>\n",
       "      <td>2021-10-18T23:08:40.000Z</td>\n",
       "      <td>1450237422852247555</td>\n",
       "      <td>@Carmen596894351 Twitter... Instagram...Youtub...</td>\n",
       "      <td>NaN</td>\n",
       "      <td>NaN</td>\n",
       "    </tr>\n",
       "  </tbody>\n",
       "</table>\n",
       "<p>1998 rows × 5 columns</p>\n",
       "</div>"
      ],
      "text/plain": [
       "                  created_at                   id  \\\n",
       "0   2021-10-19T00:40:31.000Z  1450260537271541767   \n",
       "1   2021-10-19T00:40:29.000Z  1450260531680530436   \n",
       "2   2021-10-19T00:40:24.000Z  1450260510470025219   \n",
       "3   2021-10-19T00:40:20.000Z  1450260490261762049   \n",
       "4   2021-10-19T00:40:17.000Z  1450260478387752961   \n",
       "..                       ...                  ...   \n",
       "93  2021-10-18T23:08:52.000Z  1450237474572103686   \n",
       "94  2021-10-18T23:08:47.000Z  1450237451184885761   \n",
       "95  2021-10-18T23:08:46.000Z  1450237450035548160   \n",
       "96  2021-10-18T23:08:45.000Z  1450237446004871175   \n",
       "97  2021-10-18T23:08:40.000Z  1450237422852247555   \n",
       "\n",
       "                                                 text withheld.copyright  \\\n",
       "0   @goodman5582 @Turki_alalshikh #jeddah_massage\\...                NaN   \n",
       "1   @popa_ip @DocumentingBTC @stakeborg Are you in...                NaN   \n",
       "2                                   @iKEN6MA whatsapp                NaN   \n",
       "3   Girl on my WhatsApp asking me what I know abou...                NaN   \n",
       "4   @sultan140214 @T0lc52sWhpJ6jUT @Turki_alalshik...                NaN   \n",
       "..                                                ...                ...   \n",
       "93  @skelethund Love ya mate 🥰 (respond fucking wh...                NaN   \n",
       "94  @foot2061 @goddesjoannalrg Hello dear servant!...                NaN   \n",
       "95  Dm with your cash app tag or apple pay if you ...                NaN   \n",
       "96  NEW ARRIVAL✨✨\\n🔥🔥🔥🔥🔥\\nBINDO🚨🚨🚨\\nAvailable for ...                NaN   \n",
       "97  @Carmen596894351 Twitter... Instagram...Youtub...                NaN   \n",
       "\n",
       "   withheld.country_codes  \n",
       "0                     NaN  \n",
       "1                     NaN  \n",
       "2                     NaN  \n",
       "3                     NaN  \n",
       "4                     NaN  \n",
       "..                    ...  \n",
       "93                    NaN  \n",
       "94                    NaN  \n",
       "95                    NaN  \n",
       "96                    NaN  \n",
       "97                    NaN  \n",
       "\n",
       "[1998 rows x 5 columns]"
      ]
     },
     "execution_count": 7,
     "metadata": {},
     "output_type": "execute_result"
    }
   ],
   "source": [
    "df = get_data(url,params,20)\n",
    "df"
   ]
  }
 ],
 "metadata": {
  "interpreter": {
   "hash": "41805f2a7e02b28922c6689937d05cf098c6ed4a0aa734823cacf02002620d85"
  },
  "kernelspec": {
   "display_name": "Python 3.8.5 64-bit ('base': conda)",
   "name": "python3"
  },
  "language_info": {
   "codemirror_mode": {
    "name": "ipython",
    "version": 3
   },
   "file_extension": ".py",
   "mimetype": "text/x-python",
   "name": "python",
   "nbconvert_exporter": "python",
   "pygments_lexer": "ipython3",
   "version": "3.8.5"
  },
  "orig_nbformat": 4
 },
 "nbformat": 4,
 "nbformat_minor": 2
}
