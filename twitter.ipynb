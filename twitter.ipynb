{
 "cells": [
  {
   "cell_type": "markdown",
   "metadata": {},
   "source": [
    "# TeeHunch"
   ]
  },
  {
   "cell_type": "markdown",
   "metadata": {},
   "source": [
    "## importamos librerias"
   ]
  },
  {
   "cell_type": "code",
   "execution_count": 8,
   "metadata": {},
   "outputs": [],
   "source": [
    "import requests\n",
    "import os\n",
    "from dotenv import load_dotenv\n",
    "import pandas as pd\n",
    "import string\n",
    "from nltk.tokenize import TweetTokenizer\n",
    "from wordcloud import WordCloud\n",
    "import matplotlib.pyplot as plt\n",
    "import nltk"
   ]
  },
  {
   "cell_type": "markdown",
   "metadata": {},
   "source": [
    "## Obtener datos de la API "
   ]
  },
  {
   "cell_type": "markdown",
   "metadata": {},
   "source": [
    "### definimos consulta a la API"
   ]
  },
  {
   "cell_type": "code",
   "execution_count": 9,
   "metadata": {},
   "outputs": [],
   "source": [
    "url = \"https://api.twitter.com/2/tweets/search/recent\""
   ]
  },
  {
   "cell_type": "markdown",
   "metadata": {},
   "source": [
    "### definimos parametros"
   ]
  },
  {
   "cell_type": "code",
   "execution_count": 10,
   "metadata": {},
   "outputs": [],
   "source": [
    "params = {\n",
    "    'query': 'WhatsApp lang:en -is:retweet',\n",
    "    'tweet.fields':'created_at',\n",
    "    'max_results':100\n",
    "}"
   ]
  },
  {
   "cell_type": "markdown",
   "metadata": {},
   "source": [
    "### cargamos los valores del .env"
   ]
  },
  {
   "cell_type": "code",
   "execution_count": 11,
   "metadata": {},
   "outputs": [
    {
     "data": {
      "text/plain": [
       "True"
      ]
     },
     "execution_count": 11,
     "metadata": {},
     "output_type": "execute_result"
    }
   ],
   "source": [
    "load_dotenv()"
   ]
  },
  {
   "cell_type": "markdown",
   "metadata": {},
   "source": [
    "### definimos cabecera"
   ]
  },
  {
   "cell_type": "code",
   "execution_count": 12,
   "metadata": {},
   "outputs": [
    {
     "name": "stdout",
     "output_type": "stream",
     "text": [
      "AAAAAAAAAAAAAAAAAAAAAMLSUAEAAAAAJJZEWvf0vpzqGzUGipb7XWruN4k%3DeoD0ge1zJDPTu0uXl4yN0tg69kSdkcksjA6XD5Tom5VVtt9x9p\n"
     ]
    }
   ],
   "source": [
    "bearer_token = os.environ.get(\"BEARER_TOKEN\")\n",
    "user_token = os.environ.get(\"USER_TOKEN\")\n",
    "headers = {\n",
    "    \"Authorization\": f\"Bearer {bearer_token}\",\n",
    "    \"User-Agent\": f\"Bearer {user_token}\"\n",
    "} \n",
    "print(bearer_token)"
   ]
  },
  {
   "cell_type": "markdown",
   "metadata": {},
   "source": [
    "## Obtener tweets"
   ]
  },
  {
   "cell_type": "code",
   "execution_count": 13,
   "metadata": {},
   "outputs": [],
   "source": [
    "def get_data(url,params, total_pages):\n",
    "    results = []\n",
    "    count = 0\n",
    "    while count < total_pages:\n",
    "        count += 1\n",
    "        response = requests.get(url, headers=headers, params=params)\n",
    "        # Generar excepción si la respuesta no es exitosa\n",
    "        if response.status_code != 200:\n",
    "            raise Exception(response.status_code, response.text)\n",
    "        data = response.json()['data']\n",
    "        meta_data = dict(response.json())['meta']\n",
    "        results.append(pd.json_normalize(data))\n",
    "        if 'next_token' not in meta_data:\n",
    "            break\n",
    "        else:\n",
    "            token = meta_data['next_token']\n",
    "            print(token)\n",
    "            params = {\n",
    "                    'query': '#BlueOrigin lang:en -is:retweet',\n",
    "                    'tweet.fields':'created_at',\n",
    "                    'next_token':token,\n",
    "                    'max_results':100\n",
    "            }\n",
    "    return pd.concat(results)"
   ]
  },
  {
   "cell_type": "code",
   "execution_count": 14,
   "metadata": {},
   "outputs": [
    {
     "name": "stdout",
     "output_type": "stream",
     "text": [
      "b26v89c19zqg8o3fpdv5se7lwn4t8c2ip3a2jgx6fnou5\n",
      "b26v89c19zqg8o3fpds9t7abkbig2pfnhd1kgvheto5ml\n",
      "b26v89c19zqg8o3fpds9sysmc9n5m76n8v11ju2f86xrx\n",
      "b26v89c19zqg8o3fpds9ssfc209h6vytqxcnda5jrldvh\n",
      "b26v89c19zqg8o3fpds9e5yfkb8jglcxwxzoycpbad3lp\n",
      "b26v89c19zqg8o3fpds9e3si98x6m2nrtli4ctyupjhj1\n",
      "b26v89c19zqg8o3fpds9e1odipfsimbhbhfsfquuvtn5p\n",
      "b26v89c19zqg8o3fpds9dzlr6z8qrytx0pa3wv146webh\n",
      "b26v89c19zqg8o3fpds9dzkutohb19118xd2o1hv4yg71\n",
      "b26v89c19zqg8o3fpds9dzk9ad7fa261n1cab6eieolfh\n",
      "b26v89c19zqg8o3fpds9dzjcph45kmz1940ll96ljlawt\n",
      "b26v89c19zqg8o3fpds9dxftvxcs1hrgcuh8t68q2r3i5\n",
      "b26v89c19zqg8o3fpds9dxemfmcsijn2qbmf1z2fhnxj1\n",
      "b26v89c19zqg8o3fpds9dvbpeh6862z4w4mnikczzfhj1\n",
      "b26v89c19zqg8o3fpds9dvat18z33cxfbywejij6ew519\n",
      "b26v89c19zqg8o3fpds9dvahzod9czygvbtljldeopf25\n",
      "b26v89c19zqg8o3fpds9dv9wkwbidi2erobwsldt4l5z1\n",
      "b26v89c19zqg8o3fpds9dv9lkv75ffm9lgg6ag5u0t0u5\n",
      "b26v89c19zqg8o3fpds9dt7khw9mgnu5qc7u04dzc673x\n",
      "b26v89c19zqg8o3fpds9dt79shpla55hw4uk1sp4ixe2l\n"
     ]
    },
    {
     "data": {
      "text/html": [
       "<div>\n",
       "<style scoped>\n",
       "    .dataframe tbody tr th:only-of-type {\n",
       "        vertical-align: middle;\n",
       "    }\n",
       "\n",
       "    .dataframe tbody tr th {\n",
       "        vertical-align: top;\n",
       "    }\n",
       "\n",
       "    .dataframe thead th {\n",
       "        text-align: right;\n",
       "    }\n",
       "</style>\n",
       "<table border=\"1\" class=\"dataframe\">\n",
       "  <thead>\n",
       "    <tr style=\"text-align: right;\">\n",
       "      <th></th>\n",
       "      <th>created_at</th>\n",
       "      <th>id</th>\n",
       "      <th>text</th>\n",
       "      <th>withheld.copyright</th>\n",
       "      <th>withheld.country_codes</th>\n",
       "    </tr>\n",
       "  </thead>\n",
       "  <tbody>\n",
       "    <tr>\n",
       "      <th>0</th>\n",
       "      <td>2021-10-19T01:10:42.000Z</td>\n",
       "      <td>1450268133034545153</td>\n",
       "      <td>I like fucking wet pussy\\nAny woman in fuckabl...</td>\n",
       "      <td>NaN</td>\n",
       "      <td>NaN</td>\n",
       "    </tr>\n",
       "    <tr>\n",
       "      <th>1</th>\n",
       "      <td>2021-10-19T01:10:40.000Z</td>\n",
       "      <td>1450268126403342338</td>\n",
       "      <td>@keairaak Hi, we will help you out with your a...</td>\n",
       "      <td>NaN</td>\n",
       "      <td>NaN</td>\n",
       "    </tr>\n",
       "    <tr>\n",
       "      <th>2</th>\n",
       "      <td>2021-10-19T01:10:40.000Z</td>\n",
       "      <td>1450268126336196609</td>\n",
       "      <td>@qhaIessi Hello my  friend😁 ,\\n\\nNeed help wit...</td>\n",
       "      <td>NaN</td>\n",
       "      <td>NaN</td>\n",
       "    </tr>\n",
       "    <tr>\n",
       "      <th>3</th>\n",
       "      <td>2021-10-19T01:10:40.000Z</td>\n",
       "      <td>1450268124830322697</td>\n",
       "      <td>Our Hair Replacement Systems Are High-Quality ...</td>\n",
       "      <td>NaN</td>\n",
       "      <td>NaN</td>\n",
       "    </tr>\n",
       "    <tr>\n",
       "      <th>4</th>\n",
       "      <td>2021-10-19T01:10:38.000Z</td>\n",
       "      <td>1450268117150703619</td>\n",
       "      <td>@ChallThink @Twitter @TwitterSupport If you ar...</td>\n",
       "      <td>NaN</td>\n",
       "      <td>NaN</td>\n",
       "    </tr>\n",
       "    <tr>\n",
       "      <th>...</th>\n",
       "      <td>...</td>\n",
       "      <td>...</td>\n",
       "      <td>...</td>\n",
       "      <td>...</td>\n",
       "      <td>...</td>\n",
       "    </tr>\n",
       "    <tr>\n",
       "      <th>95</th>\n",
       "      <td>2021-10-13T20:22:46.000Z</td>\n",
       "      <td>1448383732637896704</td>\n",
       "      <td>I turned 47 today. Watching @WilliamShatner tr...</td>\n",
       "      <td>NaN</td>\n",
       "      <td>NaN</td>\n",
       "    </tr>\n",
       "    <tr>\n",
       "      <th>96</th>\n",
       "      <td>2021-10-13T20:22:44.000Z</td>\n",
       "      <td>1448383723909500928</td>\n",
       "      <td>Looking forward to SNL this weekend. #BlueOrig...</td>\n",
       "      <td>NaN</td>\n",
       "      <td>NaN</td>\n",
       "    </tr>\n",
       "    <tr>\n",
       "      <th>97</th>\n",
       "      <td>2021-10-13T20:22:37.000Z</td>\n",
       "      <td>1448383696319377408</td>\n",
       "      <td>@AngelaBelcamino @HamillHimself Send up @ofcti...</td>\n",
       "      <td>NaN</td>\n",
       "      <td>NaN</td>\n",
       "    </tr>\n",
       "    <tr>\n",
       "      <th>98</th>\n",
       "      <td>2021-10-13T20:22:00.000Z</td>\n",
       "      <td>1448383540345835528</td>\n",
       "      <td>DM anytime\\n#Homework due\\nAlgebra\\nCase Study...</td>\n",
       "      <td>NaN</td>\n",
       "      <td>NaN</td>\n",
       "    </tr>\n",
       "    <tr>\n",
       "      <th>99</th>\n",
       "      <td>2021-10-13T20:21:45.000Z</td>\n",
       "      <td>1448383476101750787</td>\n",
       "      <td>\"Captain Kirk\" back on Earth -  overwhelmed of...</td>\n",
       "      <td>NaN</td>\n",
       "      <td>NaN</td>\n",
       "    </tr>\n",
       "  </tbody>\n",
       "</table>\n",
       "<p>1998 rows × 5 columns</p>\n",
       "</div>"
      ],
      "text/plain": [
       "                  created_at                   id  \\\n",
       "0   2021-10-19T01:10:42.000Z  1450268133034545153   \n",
       "1   2021-10-19T01:10:40.000Z  1450268126403342338   \n",
       "2   2021-10-19T01:10:40.000Z  1450268126336196609   \n",
       "3   2021-10-19T01:10:40.000Z  1450268124830322697   \n",
       "4   2021-10-19T01:10:38.000Z  1450268117150703619   \n",
       "..                       ...                  ...   \n",
       "95  2021-10-13T20:22:46.000Z  1448383732637896704   \n",
       "96  2021-10-13T20:22:44.000Z  1448383723909500928   \n",
       "97  2021-10-13T20:22:37.000Z  1448383696319377408   \n",
       "98  2021-10-13T20:22:00.000Z  1448383540345835528   \n",
       "99  2021-10-13T20:21:45.000Z  1448383476101750787   \n",
       "\n",
       "                                                 text withheld.copyright  \\\n",
       "0   I like fucking wet pussy\\nAny woman in fuckabl...                NaN   \n",
       "1   @keairaak Hi, we will help you out with your a...                NaN   \n",
       "2   @qhaIessi Hello my  friend😁 ,\\n\\nNeed help wit...                NaN   \n",
       "3   Our Hair Replacement Systems Are High-Quality ...                NaN   \n",
       "4   @ChallThink @Twitter @TwitterSupport If you ar...                NaN   \n",
       "..                                                ...                ...   \n",
       "95  I turned 47 today. Watching @WilliamShatner tr...                NaN   \n",
       "96  Looking forward to SNL this weekend. #BlueOrig...                NaN   \n",
       "97  @AngelaBelcamino @HamillHimself Send up @ofcti...                NaN   \n",
       "98  DM anytime\\n#Homework due\\nAlgebra\\nCase Study...                NaN   \n",
       "99  \"Captain Kirk\" back on Earth -  overwhelmed of...                NaN   \n",
       "\n",
       "   withheld.country_codes  \n",
       "0                     NaN  \n",
       "1                     NaN  \n",
       "2                     NaN  \n",
       "3                     NaN  \n",
       "4                     NaN  \n",
       "..                    ...  \n",
       "95                    NaN  \n",
       "96                    NaN  \n",
       "97                    NaN  \n",
       "98                    NaN  \n",
       "99                    NaN  \n",
       "\n",
       "[1998 rows x 5 columns]"
      ]
     },
     "execution_count": 14,
     "metadata": {},
     "output_type": "execute_result"
    }
   ],
   "source": [
    "df = get_data(url,params,20)\n",
    "df"
   ]
  }
 ],
 "metadata": {
  "interpreter": {
   "hash": "41805f2a7e02b28922c6689937d05cf098c6ed4a0aa734823cacf02002620d85"
  },
  "kernelspec": {
   "display_name": "Python 3.8.5 64-bit ('base': conda)",
   "name": "python3"
  },
  "language_info": {
   "codemirror_mode": {
    "name": "ipython",
    "version": 3
   },
   "file_extension": ".py",
   "mimetype": "text/x-python",
   "name": "python",
   "nbconvert_exporter": "python",
   "pygments_lexer": "ipython3",
   "version": "3.8.5"
  },
  "orig_nbformat": 4
 },
 "nbformat": 4,
 "nbformat_minor": 2
}
